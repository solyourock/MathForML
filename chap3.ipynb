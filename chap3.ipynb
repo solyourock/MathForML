{
 "cells": [
  {
   "cell_type": "markdown",
   "id": "9aa141ce",
   "metadata": {},
   "source": [
    "## 3-1 Norms"
   ]
  },
  {
   "cell_type": "markdown",
   "id": "1942ce23",
   "metadata": {},
   "source": [
    "- Norm은 vector의 시작점에서 vector 끝을 나타내는 것\n",
    "- vector의 길이를 표현"
   ]
  },
  {
   "cell_type": "markdown",
   "id": "df84d009",
   "metadata": {},
   "source": [
    "#### 성질"
   ]
  },
  {
   "cell_type": "markdown",
   "id": "34392944",
   "metadata": {},
   "source": [
    "- absolutely homogeneous : $\\parallel\\lambda{x}\\parallel = \\mid\\lambda\\mid\\parallel{x}\\parallel$\n",
    "- triangle inequality : $\\parallel{x + y}\\parallel <= \\parallel x \\parallel + \\parallel y \\parallel$\n",
    "- positive definite : $\\parallel x \\parallel >= 0$ and $\\parallel x \\parallel = 0$ <=> $x = 0$ (0을 포함한 양수)"
   ]
  },
  {
   "cell_type": "markdown",
   "id": "5e67d430",
   "metadata": {},
   "source": [
    "#### 종류"
   ]
  },
  {
   "cell_type": "markdown",
   "id": "81b75604",
   "metadata": {},
   "source": [
    "- $l_1 Norm$ : Manhattan Norm\n",
    "    - $\\parallel x \\parallel_1 := \\sum_{i=1}^{n} \\mid x_i\\mid $"
   ]
  },
  {
   "cell_type": "markdown",
   "id": "7bfd584e",
   "metadata": {},
   "source": [
    "- $l_2 Norm$ : Euclidean Norm \n",
    "    - 보통 norm 이라면 Euclidean Norm을 뜻한다)\n",
    "    - $\\parallel x \\parallel_2 := \\sqrt{\\sum_{i=1}^{n} x_i^2} = \\sqrt {x^Tx}$"
   ]
  },
  {
   "cell_type": "markdown",
   "id": "b56529d1",
   "metadata": {},
   "source": [
    "- 참고 : Lasso, Rigde, Elastic Net, L1 regularization, L2 regularization"
   ]
  },
  {
   "cell_type": "markdown",
   "id": "f737ba5f",
   "metadata": {},
   "source": [
    "## 3-2 Inner Products"
   ]
  },
  {
   "cell_type": "markdown",
   "id": "45bbef86",
   "metadata": {},
   "source": [
    "- Inner Product를 통해 두 vector사이의 length, angle, distance에 대해 기하학적인 개념에 대해 직관적으로 이해할 수 있다. 가장 큰 목적은 이를 통해 vector간의 orthogonal 관계를 도출하는 것이다."
   ]
  },
  {
   "cell_type": "markdown",
   "id": "0ec0b14a",
   "metadata": {},
   "source": [
    "### 3-2-1 Dot Products"
   ]
  },
  {
   "cell_type": "markdown",
   "id": "8bfc1756",
   "metadata": {},
   "source": [
    "- 두 vector 간의 연산을 통해 하나의 scalar값을 도출\n",
    "- $x^Ty = \\sum_{i=1} ^ {n} {x_iy_i}$"
   ]
  },
  {
   "cell_type": "markdown",
   "id": "e136bba8",
   "metadata": {},
   "source": [
    "### 3-2-2 General Inner Products"
   ]
  },
  {
   "cell_type": "markdown",
   "id": "69c0e608",
   "metadata": {},
   "source": [
    "- bilinear mapping $\\Omega$ : 선형성을 가진 두 인자를 mapping 하는 것\n",
    "- vector space V \n",
    "    - $\\forall x,y,z \\in V$,   $\\lambda, \\psi \\in {\\mathbb{R}}$\n",
    "        - $\\Omega (\\lambda{x} +\\psi{y},z) = \\lambda\\Omega(x,z) + \\psi\\Omega(y,z)$\n",
    "        - $\\Omega ({x},\\lambda{y} +\\psi{z}) = \\lambda\\Omega(x,z) + \\psi\\Omega(y,z)$"
   ]
  },
  {
   "cell_type": "markdown",
   "id": "44511b2e",
   "metadata": {},
   "source": [
    "- bilinear mapping $\\Omega$는 두 vector를 하나의 실수 $\\mathbb{R}$로 mapping 하는 것\n",
    "- vector space V\n",
    "    - $\\Omega : V \\times V -> \\mathbb{R}$\n",
    "        - $\\Omega$는 대칭 symmetric : $\\forall x,y \\in V$,   $\\Omega(x, y) = \\Omega(y, x)$\n",
    "        - $\\Omega$는 positive definite : $\\forall x \\in V \\setminus\\{0\\} : \\Omega(x,x) >= 0, \\Omega(0,0) = 0$ \n",
    "       \n",
    "        - positive definite, symmetric bilinear mapping $\\Omega : V \\times V -> \\mathbb{R}$를 vector space V에 대한 inner product라고 하며 일반적으로 $\\Omega(x, y)$ 보다는 $\\langle {x,y} \\rangle$로 표현\n",
    "        - $(V, \\langle \\cdot , \\cdot \\rangle)$을 inner product space 혹은 inner product의 vector space라고 한다\n",
    "        - Dot product$(x^Ty = \\sum_{i=1}^n{x_iy_i})$를 사용하여 연산하면 $(V, \\langle \\cdot , \\cdot \\rangle)$를 Euclidean vector space라고 한다"
   ]
  },
  {
   "cell_type": "markdown",
   "id": "4012cf72",
   "metadata": {},
   "source": [
    "### 3-2-3 Symmetric, Positive Definite Matrices"
   ]
  },
  {
   "cell_type": "markdown",
   "id": "6c4de28f",
   "metadata": {},
   "source": [
    "## 3-3 Lengths and Distances"
   ]
  },
  {
   "cell_type": "markdown",
   "id": "c70abe17",
   "metadata": {},
   "source": [
    "## 3-4 Angles and Orthogonality"
   ]
  },
  {
   "cell_type": "markdown",
   "id": "5adbc420",
   "metadata": {},
   "source": [
    "## 3-5 Orthonormal Basis"
   ]
  }
 ],
 "metadata": {
  "kernelspec": {
   "display_name": "Python 3",
   "language": "python",
   "name": "python3"
  },
  "language_info": {
   "codemirror_mode": {
    "name": "ipython",
    "version": 3
   },
   "file_extension": ".py",
   "mimetype": "text/x-python",
   "name": "python",
   "nbconvert_exporter": "python",
   "pygments_lexer": "ipython3",
   "version": "3.8.6"
  }
 },
 "nbformat": 4,
 "nbformat_minor": 5
}
